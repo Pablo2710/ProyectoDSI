{
  "nbformat": 4,
  "nbformat_minor": 0,
  "metadata": {
    "colab": {
      "provenance": [],
      "authorship_tag": "ABX9TyO45JOw3qfq7qlBIOpJb1Om",
      "include_colab_link": true
    },
    "kernelspec": {
      "name": "python3",
      "display_name": "Python 3"
    },
    "language_info": {
      "name": "python"
    }
  },
  "cells": [
    {
      "cell_type": "markdown",
      "metadata": {
        "id": "view-in-github",
        "colab_type": "text"
      },
      "source": [
        "<a href=\"https://colab.research.google.com/github/Pablo2710/ProyectoDSI/blob/main/ProyectoDSParteI_Martinez.ipynb\" target=\"_parent\"><img src=\"https://colab.research.google.com/assets/colab-badge.svg\" alt=\"Open In Colab\"/></a>"
      ]
    },
    {
      "cell_type": "markdown",
      "source": [
        "# **Financial Fraud Detection**"
      ],
      "metadata": {
        "id": "0vCVZTJAxZXI"
      }
    },
    {
      "cell_type": "markdown",
      "source": [
        "Este Dataset contiene 5 millones de transacciones financieras generadas  mediante un script de Python. La finalidad es simular el comportamiento real en la investigación de detección de fraudes y aplicaciones de aprendizaje automático. Cada registro de transacción incluye campos como:\n",
        "\n",
        "**Detalles de la transacción:** ID, marca de tiempo, cuentas del remitente/receptor, monto, tipo (depósito, transferencia, etc.)\n",
        "\n",
        "**Características de comportamiento:** tiempo transcurrido desde la última transacción, puntuación de desviación del gasto, puntuación de velocidad, puntuación de anomalías geográficas\n",
        "\n",
        "**Metadatos:** ubicación, dispositivo utilizado, canal de pago, dirección IP, hash del dispositivo\n",
        "\n",
        "**Indicadores de fraude:** etiqueta binaria de fraude (is_fraud) y tipo de fraude (por ejemplo, lavado de dinero, apropiación de cuentas)\n",
        "\n",
        "El conjunto de datos sigue patrones de fraude realistas y anomalías de comportamiento, lo que lo hace adecuado para:\n",
        "\n",
        "- *Modelos de clasificación binaria y multiclase*\n",
        "\n",
        "- *Sistemas de detección de fraude*\n",
        "\n",
        "- *Detección de anomalías en series temporales*\n",
        "\n",
        "- *Ingeniería de características y explicabilidad del modelo*"
      ],
      "metadata": {
        "id": "zoY4mMICxbK3"
      }
    }
  ]
}